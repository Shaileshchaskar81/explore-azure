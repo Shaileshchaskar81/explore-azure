{
 "cells": [
  {
   "cell_type": "code",
   "execution_count": null,
   "metadata": {},
   "outputs": [],
   "source": [
    "print (\"Hello Wolrd\")"
   ]
  },
  {
   "cell_type": "code",
   "execution_count": null,
   "metadata": {},
   "outputs": [],
   "source": [
    "pip install --upgrade pip"
   ]
  },
  {
   "cell_type": "code",
   "execution_count": null,
   "metadata": {},
   "outputs": [],
   "source": [
    "pip install -r D:\\CloudPlayGround\\explore-azure\\az-python\\requirements.txt"
   ]
  },
  {
   "cell_type": "code",
   "execution_count": null,
   "metadata": {},
   "outputs": [],
   "source": [
    "pip install azure-identity"
   ]
  },
  {
   "cell_type": "code",
   "execution_count": 2,
   "metadata": {},
   "outputs": [],
   "source": [
    "import os, json\n",
    "from azure.mgmt.compute import ComputeManagementClient\n",
    "from azure.mgmt.resource import ResourceManagementClient\n",
    "from azure.identity import DefaultAzureCredential"
   ]
  },
  {
   "cell_type": "code",
   "execution_count": null,
   "metadata": {},
   "outputs": [],
   "source": [
    "subscription_id = os.environ.get('AZURE_SUBSCRIPTION_ID','62086a1d-1261-4c50-8a2d-734ed260fd8d')  # your Azure Subscription Id\n",
    "credential = DefaultAzureCredential()    \n",
    "resource_client = ResourceManagementClient(credential, subscription_id)\n",
    "compute_client = ComputeManagementClient(credential=credential,subscription_id=subscription_id)\n",
    "group_list = resource_client.resource_groups.list()\n",
    "for group in list(group_list):\n",
    "    print(group.name, \":\", group.location)"
   ]
  }
 ],
 "metadata": {
  "kernelspec": {
   "display_name": ".venv",
   "language": "python",
   "name": "python3"
  },
  "language_info": {
   "codemirror_mode": {
    "name": "ipython",
    "version": 3
   },
   "file_extension": ".py",
   "mimetype": "text/x-python",
   "name": "python",
   "nbconvert_exporter": "python",
   "pygments_lexer": "ipython3",
   "version": "3.11.1"
  },
  "orig_nbformat": 4
 },
 "nbformat": 4,
 "nbformat_minor": 2
}
